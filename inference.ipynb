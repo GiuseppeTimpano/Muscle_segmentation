{
 "cells": [
  {
   "cell_type": "markdown",
   "metadata": {},
   "source": [
    "# Muscle segmentation L3 volume"
   ]
  },
  {
   "cell_type": "code",
   "execution_count": 1,
   "metadata": {},
   "outputs": [
    {
     "data": {
      "text/plain": [
       "<All keys matched successfully>"
      ]
     },
     "execution_count": 1,
     "metadata": {},
     "output_type": "execute_result"
    }
   ],
   "source": [
    "import torch \n",
    "from Unet3plus.unet3plus import UNet_3Plus_3D\n",
    "\n",
    "model_3D  = UNet_3Plus_3D(n_classes=1, in_channels=1, feature_scale=4)\n",
    "model_3D.load_state_dict(torch.load('models/best_unet3plusmodel.pth', weights_only=True, map_location=torch.device('cpu')))"
   ]
  },
  {
   "cell_type": "code",
   "execution_count": 4,
   "metadata": {},
   "outputs": [],
   "source": [
    "import pickle\n",
    "import torch\n",
    "\n",
    "from monai.transforms import (\n",
    "    EnsureChannelFirstd,\n",
    "    Compose,\n",
    "    ScaleIntensityd,\n",
    "    Resized,\n",
    "    AsDiscrete\n",
    ")\n",
    "from monai.data import Dataset, DataLoader\n",
    "\n",
    "# load dataset\n",
    "with open('datasetpkl/datasetpkl3d/3d_dataset_test.pkl', 'rb') as file:\n",
    "    test_data = pickle.load(file)\n",
    "\n",
    "test_data_dict = [\n",
    "    {\"img\": img[:19], \"seg\": ann[:19]}\n",
    "    for img, ann in zip(test_data['images'], test_data['annotations'])\n",
    "]\n",
    "\n",
    "# define transformation\n",
    "transforms = Compose(\n",
    "    [\n",
    "        ScaleIntensityd(keys=[\"img\"]),\n",
    "        EnsureChannelFirstd(keys=[\"img\", \"seg\"], channel_dim=\"no_channel\"),\n",
    "        Resized(keys=['img'], spatial_size=(19, 256, 256), mode='area', anti_aliasing=True),\n",
    "        Resized(keys=['seg'], spatial_size=(19, 256, 256), mode='nearest')\n",
    "    ]\n",
    ")\n",
    "\n",
    "post_trans = Compose([AsDiscrete(threshold=0.5)])\n",
    "\n",
    "test_ds = Dataset(data=test_data_dict, transform=transforms)\n",
    "\n",
    "test_loader = DataLoader(\n",
    "    test_ds,\n",
    "    batch_size=1,\n",
    "    shuffle=False,\n",
    "    num_workers=4,\n",
    "    pin_memory=torch.cuda.is_available()\n",
    ")"
   ]
  },
  {
   "cell_type": "code",
   "execution_count": null,
   "metadata": {},
   "outputs": [],
   "source": []
  }
 ],
 "metadata": {
  "kernelspec": {
   "display_name": "env",
   "language": "python",
   "name": "python3"
  },
  "language_info": {
   "codemirror_mode": {
    "name": "ipython",
    "version": 3
   },
   "file_extension": ".py",
   "mimetype": "text/x-python",
   "name": "python",
   "nbconvert_exporter": "python",
   "pygments_lexer": "ipython3",
   "version": "3.12.3"
  }
 },
 "nbformat": 4,
 "nbformat_minor": 2
}
